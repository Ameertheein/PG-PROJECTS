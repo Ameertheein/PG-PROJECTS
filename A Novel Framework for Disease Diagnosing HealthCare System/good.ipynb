{
 "cells": [
  {
   "cell_type": "code",
   "execution_count": 1,
   "metadata": {},
   "outputs": [],
   "source": [
    "from tkinter import *\n",
    "from tkinter import messagebox\n",
    "from PIL import Image,ImageTk\n",
    "\n",
    "\n",
    "\n",
    "\n",
    "import os\n",
    "import pickle\n"
   ]
  },
  {
   "cell_type": "code",
   "execution_count": 2,
   "metadata": {
    "scrolled": true
   },
   "outputs": [],
   "source": [
    "root = Tk()\n",
    "root.title(\" AROKIACARE\")\n",
    "root.geometry('1200x600')\n",
    "root.configure() \n",
    "load=Image.open(\"h1.jpg\")\n",
    "\n",
    "render=ImageTk.PhotoImage(load)\n",
    "img=Label(root,image=render)\n",
    "\n",
    "img.place(x=0,y=0)\n",
    "\n",
    "\n",
    "w2 = Label(root, justify=LEFT, text=\" Disease Prediction From Symptoms \")\n",
    "w2.config(font=(\"Elephant\", 30))\n",
    "w2.grid(row=1, column=0, columnspan=2, padx=100)\n",
    "\n",
    "NameLb1 = Label(root, text=\"\")\n",
    "NameLb1.config(font=(\"Elephant\", 20))\n",
    "NameLb1.grid(row=5, column=1, pady=10,  sticky=W)\n",
    "\n",
    "S1Lb = Label(root,  text=\"Symptom 1\")\n",
    "S1Lb.config(font=(\"Elephant\", 15))\n",
    "S1Lb.grid(row=7, column=1, pady=10 , sticky=W)\n",
    "\n",
    "S2Lb = Label(root,  text=\"Symptom 2\")\n",
    "S2Lb.config(font=(\"Elephant\", 15))\n",
    "S2Lb.grid(row=8, column=1, pady=10, sticky=W)\n",
    "\n",
    "S3Lb = Label(root,  text=\"Symptom 3\")\n",
    "S3Lb.config(font=(\"Elephant\", 15))\n",
    "S3Lb.grid(row=9, column=1, pady=10, sticky=W)\n",
    "\n",
    "S4Lb = Label(root,  text=\"Symptom 4\")\n",
    "S4Lb.config(font=(\"Elephant\", 15))\n",
    "S4Lb.grid(row=10, column=1, pady=10, sticky=W)\n",
    "\n",
    "S5Lb = Label(root,  text=\"Symptom 5\")\n",
    "S5Lb.config(font=(\"Elephant\", 15))\n",
    "S5Lb.grid(row=11, column=1, pady=10, sticky=W)\n",
    "\n",
    "lr = Button(root, text=\"Predict\",height=2, width=20)\n",
    "lr.config(font=(\"Elephant\", 15))\n",
    "lr.grid(row=15, column=1,pady=20)\n",
    "\n",
    "\n",
    "\n",
    "\n",
    "\n",
    "\n",
    "\n",
    "NameLb = Label(root, text=\"\")\n",
    "NameLb.config(font=(\"Elephant\", 20))\n",
    "NameLb.grid(row=13, column=1, pady=10,  sticky=W)\n",
    "\n",
    "NameLb = Label(root, text=\"\")\n",
    "NameLb.config(font=(\"Elephant\", 15))\n",
    "NameLb.grid(row=18, column=1, pady=10,  sticky=W)\n",
    "\n",
    "t3 = Text(root, height=2, width=30) \n",
    "t3.config(font=(\"Elephant\", 20))\n",
    "t3.grid(row=20, column=1 , padx=10)\n",
    "\n",
    "root.mainloop()"
   ]
  },
  {
   "cell_type": "code",
   "execution_count": null,
   "metadata": {},
   "outputs": [],
   "source": []
  },
  {
   "cell_type": "code",
   "execution_count": null,
   "metadata": {},
   "outputs": [],
   "source": []
  }
 ],
 "metadata": {
  "kernelspec": {
   "display_name": "Python 3",
   "language": "python",
   "name": "python3"
  },
  "language_info": {
   "codemirror_mode": {
    "name": "ipython",
    "version": 3
   },
   "file_extension": ".py",
   "mimetype": "text/x-python",
   "name": "python",
   "nbconvert_exporter": "python",
   "pygments_lexer": "ipython3",
   "version": "3.8.5"
  }
 },
 "nbformat": 4,
 "nbformat_minor": 4
}
